{
 "cells": [
  {
   "cell_type": "code",
   "execution_count": 12,
   "metadata": {},
   "outputs": [],
   "source": [
    "import pandas as pd\n",
    "from sklearn.model_selection import train_test_split\n",
    "from sklearn.model_selection import cross_val_score\n",
    "from sklearn.model_selection import GridSearchCV\n",
    "from sklearn.metrics import make_scorer\n",
    "from sklearn.linear_model import Lasso\n",
    "from sklearn.linear_model import Ridge\n",
    "from sklearn.metrics import mean_squared_error as mse\n",
    "from sklearn.metrics import make_scorer\n",
    "from sklearn.metrics import r2_score\n",
    "import numpy as np"
   ]
  },
  {
   "cell_type": "markdown",
   "metadata": {},
   "source": [
    "## 1. Figure out your question\n",
    "\n",
    "The question we want to answer using machine learning is: Can naming trends accurately predict religiosity in a region?"
   ]
  },
  {
   "cell_type": "markdown",
   "metadata": {},
   "source": [
    "## 2. Obtain a labeled dataset\n",
    "\n",
    "The name data we are using comes from the Social Security Administration Database. \n",
    "The religous data is compiled from various sources that include: Religious Landscape Survey, American National Election Studies, Churches and Church Membership in the United States, History of American Religion, and the United States Census of American Religion. \n",
    "The Bible names were scraped from Wikipedia. "
   ]
  },
  {
   "cell_type": "code",
   "execution_count": 5,
   "metadata": {},
   "outputs": [
    {
     "name": "stdout",
     "output_type": "stream",
     "text": [
      "  state  year  percentbible  percentAaliyah  percentAaron  percentAbbey  \\\n",
      "0    AK  1971      0.201347        0.000000      0.006558             0   \n",
      "1    AK  2008      0.235185        0.001684      0.004377             0   \n",
      "2    AL  1916      0.168510        0.000000      0.000000             0   \n",
      "3    AL  1926      0.175586        0.000000      0.000000             0   \n",
      "4    AL  1952      0.168864        0.000000      0.000000             0   \n",
      "\n",
      "   percentAbbie  percentAbbigail  percentAbby  percentAbdirahman  ...  \\\n",
      "0             0              0.0          0.0                  0  ...   \n",
      "1             0              0.0          0.0                  0  ...   \n",
      "2             0              0.0          0.0                  0  ...   \n",
      "3             0              0.0          0.0                  0  ...   \n",
      "4             0              0.0          0.0                  0  ...   \n",
      "\n",
      "   percentZia  percentZion  percentZoe  percentZoey  percentZola  percentZora  \\\n",
      "0           0          0.0    0.000000      0.00000          0.0            0   \n",
      "1           0          0.0    0.002694      0.00101          0.0            0   \n",
      "2           0          0.0    0.000000      0.00000          0.0            0   \n",
      "3           0          0.0    0.000000      0.00000          0.0            0   \n",
      "4           0          0.0    0.000000      0.00000          0.0            0   \n",
      "\n",
      "   percentZuri  percentZyaire  christian  Validation  \n",
      "0            0              0   0.370368           1  \n",
      "1            0              0   0.692155           0  \n",
      "2            0              0   0.691200           0  \n",
      "3            0              0   0.763187           1  \n",
      "4            0              0   0.338982           0  \n",
      "\n",
      "[5 rows x 3367 columns]\n"
     ]
    }
   ],
   "source": [
    "rel = pd.read_csv(\"test.csv\")\n",
    "print(rel.head())"
   ]
  },
  {
   "cell_type": "code",
   "execution_count": 7,
   "metadata": {},
   "outputs": [
    {
     "data": {
      "text/html": [
       "<div>\n",
       "<style scoped>\n",
       "    .dataframe tbody tr th:only-of-type {\n",
       "        vertical-align: middle;\n",
       "    }\n",
       "\n",
       "    .dataframe tbody tr th {\n",
       "        vertical-align: top;\n",
       "    }\n",
       "\n",
       "    .dataframe thead th {\n",
       "        text-align: right;\n",
       "    }\n",
       "</style>\n",
       "<table border=\"1\" class=\"dataframe\">\n",
       "  <thead>\n",
       "    <tr style=\"text-align: right;\">\n",
       "      <th></th>\n",
       "      <th>percentbible</th>\n",
       "      <th>percentAaliyah</th>\n",
       "      <th>percentAaron</th>\n",
       "      <th>percentAbbey</th>\n",
       "      <th>percentAbbie</th>\n",
       "      <th>percentAbbigail</th>\n",
       "      <th>percentAbby</th>\n",
       "      <th>percentAbdirahman</th>\n",
       "      <th>percentAbel</th>\n",
       "      <th>percentAbigail</th>\n",
       "      <th>...</th>\n",
       "      <th>state_WI</th>\n",
       "      <th>state_WV</th>\n",
       "      <th>state_WY</th>\n",
       "      <th>year_1916</th>\n",
       "      <th>year_1926</th>\n",
       "      <th>year_1952</th>\n",
       "      <th>year_1971</th>\n",
       "      <th>year_2007</th>\n",
       "      <th>year_2008</th>\n",
       "      <th>year_2016</th>\n",
       "    </tr>\n",
       "  </thead>\n",
       "  <tbody>\n",
       "    <tr>\n",
       "      <th>count</th>\n",
       "      <td>283.000000</td>\n",
       "      <td>283.000000</td>\n",
       "      <td>283.000000</td>\n",
       "      <td>283.0</td>\n",
       "      <td>283.0</td>\n",
       "      <td>283.000000</td>\n",
       "      <td>283.000000</td>\n",
       "      <td>283.0</td>\n",
       "      <td>283.000000</td>\n",
       "      <td>283.000000</td>\n",
       "      <td>...</td>\n",
       "      <td>283.000000</td>\n",
       "      <td>283.000000</td>\n",
       "      <td>283.000000</td>\n",
       "      <td>283.000000</td>\n",
       "      <td>283.000000</td>\n",
       "      <td>283.000000</td>\n",
       "      <td>283.000000</td>\n",
       "      <td>283.000000</td>\n",
       "      <td>283.000000</td>\n",
       "      <td>283.000000</td>\n",
       "    </tr>\n",
       "    <tr>\n",
       "      <th>mean</th>\n",
       "      <td>0.171623</td>\n",
       "      <td>0.000387</td>\n",
       "      <td>0.001294</td>\n",
       "      <td>0.0</td>\n",
       "      <td>0.0</td>\n",
       "      <td>0.000004</td>\n",
       "      <td>0.000038</td>\n",
       "      <td>0.0</td>\n",
       "      <td>0.000099</td>\n",
       "      <td>0.001517</td>\n",
       "      <td>...</td>\n",
       "      <td>0.021201</td>\n",
       "      <td>0.017668</td>\n",
       "      <td>0.017668</td>\n",
       "      <td>0.169611</td>\n",
       "      <td>0.169611</td>\n",
       "      <td>0.173145</td>\n",
       "      <td>0.176678</td>\n",
       "      <td>0.173145</td>\n",
       "      <td>0.007067</td>\n",
       "      <td>0.130742</td>\n",
       "    </tr>\n",
       "    <tr>\n",
       "      <th>std</th>\n",
       "      <td>0.027602</td>\n",
       "      <td>0.000693</td>\n",
       "      <td>0.001579</td>\n",
       "      <td>0.0</td>\n",
       "      <td>0.0</td>\n",
       "      <td>0.000063</td>\n",
       "      <td>0.000232</td>\n",
       "      <td>0.0</td>\n",
       "      <td>0.000359</td>\n",
       "      <td>0.002449</td>\n",
       "      <td>...</td>\n",
       "      <td>0.144310</td>\n",
       "      <td>0.131974</td>\n",
       "      <td>0.131974</td>\n",
       "      <td>0.375956</td>\n",
       "      <td>0.375956</td>\n",
       "      <td>0.379043</td>\n",
       "      <td>0.382072</td>\n",
       "      <td>0.379043</td>\n",
       "      <td>0.083917</td>\n",
       "      <td>0.337715</td>\n",
       "    </tr>\n",
       "    <tr>\n",
       "      <th>min</th>\n",
       "      <td>0.105697</td>\n",
       "      <td>0.000000</td>\n",
       "      <td>0.000000</td>\n",
       "      <td>0.0</td>\n",
       "      <td>0.0</td>\n",
       "      <td>0.000000</td>\n",
       "      <td>0.000000</td>\n",
       "      <td>0.0</td>\n",
       "      <td>0.000000</td>\n",
       "      <td>0.000000</td>\n",
       "      <td>...</td>\n",
       "      <td>0.000000</td>\n",
       "      <td>0.000000</td>\n",
       "      <td>0.000000</td>\n",
       "      <td>0.000000</td>\n",
       "      <td>0.000000</td>\n",
       "      <td>0.000000</td>\n",
       "      <td>0.000000</td>\n",
       "      <td>0.000000</td>\n",
       "      <td>0.000000</td>\n",
       "      <td>0.000000</td>\n",
       "    </tr>\n",
       "    <tr>\n",
       "      <th>25%</th>\n",
       "      <td>0.153710</td>\n",
       "      <td>0.000000</td>\n",
       "      <td>0.000000</td>\n",
       "      <td>0.0</td>\n",
       "      <td>0.0</td>\n",
       "      <td>0.000000</td>\n",
       "      <td>0.000000</td>\n",
       "      <td>0.0</td>\n",
       "      <td>0.000000</td>\n",
       "      <td>0.000000</td>\n",
       "      <td>...</td>\n",
       "      <td>0.000000</td>\n",
       "      <td>0.000000</td>\n",
       "      <td>0.000000</td>\n",
       "      <td>0.000000</td>\n",
       "      <td>0.000000</td>\n",
       "      <td>0.000000</td>\n",
       "      <td>0.000000</td>\n",
       "      <td>0.000000</td>\n",
       "      <td>0.000000</td>\n",
       "      <td>0.000000</td>\n",
       "    </tr>\n",
       "    <tr>\n",
       "      <th>50%</th>\n",
       "      <td>0.172249</td>\n",
       "      <td>0.000000</td>\n",
       "      <td>0.000000</td>\n",
       "      <td>0.0</td>\n",
       "      <td>0.0</td>\n",
       "      <td>0.000000</td>\n",
       "      <td>0.000000</td>\n",
       "      <td>0.0</td>\n",
       "      <td>0.000000</td>\n",
       "      <td>0.000000</td>\n",
       "      <td>...</td>\n",
       "      <td>0.000000</td>\n",
       "      <td>0.000000</td>\n",
       "      <td>0.000000</td>\n",
       "      <td>0.000000</td>\n",
       "      <td>0.000000</td>\n",
       "      <td>0.000000</td>\n",
       "      <td>0.000000</td>\n",
       "      <td>0.000000</td>\n",
       "      <td>0.000000</td>\n",
       "      <td>0.000000</td>\n",
       "    </tr>\n",
       "    <tr>\n",
       "      <th>75%</th>\n",
       "      <td>0.187223</td>\n",
       "      <td>0.001031</td>\n",
       "      <td>0.002384</td>\n",
       "      <td>0.0</td>\n",
       "      <td>0.0</td>\n",
       "      <td>0.000000</td>\n",
       "      <td>0.000000</td>\n",
       "      <td>0.0</td>\n",
       "      <td>0.000000</td>\n",
       "      <td>0.003626</td>\n",
       "      <td>...</td>\n",
       "      <td>0.000000</td>\n",
       "      <td>0.000000</td>\n",
       "      <td>0.000000</td>\n",
       "      <td>0.000000</td>\n",
       "      <td>0.000000</td>\n",
       "      <td>0.000000</td>\n",
       "      <td>0.000000</td>\n",
       "      <td>0.000000</td>\n",
       "      <td>0.000000</td>\n",
       "      <td>0.000000</td>\n",
       "    </tr>\n",
       "    <tr>\n",
       "      <th>max</th>\n",
       "      <td>0.257951</td>\n",
       "      <td>0.003000</td>\n",
       "      <td>0.006857</td>\n",
       "      <td>0.0</td>\n",
       "      <td>0.0</td>\n",
       "      <td>0.001062</td>\n",
       "      <td>0.002288</td>\n",
       "      <td>0.0</td>\n",
       "      <td>0.001888</td>\n",
       "      <td>0.011745</td>\n",
       "      <td>...</td>\n",
       "      <td>1.000000</td>\n",
       "      <td>1.000000</td>\n",
       "      <td>1.000000</td>\n",
       "      <td>1.000000</td>\n",
       "      <td>1.000000</td>\n",
       "      <td>1.000000</td>\n",
       "      <td>1.000000</td>\n",
       "      <td>1.000000</td>\n",
       "      <td>1.000000</td>\n",
       "      <td>1.000000</td>\n",
       "    </tr>\n",
       "  </tbody>\n",
       "</table>\n",
       "<p>8 rows × 3423 columns</p>\n",
       "</div>"
      ],
      "text/plain": [
       "       percentbible  percentAaliyah  percentAaron  percentAbbey  percentAbbie  \\\n",
       "count    283.000000      283.000000    283.000000         283.0         283.0   \n",
       "mean       0.171623        0.000387      0.001294           0.0           0.0   \n",
       "std        0.027602        0.000693      0.001579           0.0           0.0   \n",
       "min        0.105697        0.000000      0.000000           0.0           0.0   \n",
       "25%        0.153710        0.000000      0.000000           0.0           0.0   \n",
       "50%        0.172249        0.000000      0.000000           0.0           0.0   \n",
       "75%        0.187223        0.001031      0.002384           0.0           0.0   \n",
       "max        0.257951        0.003000      0.006857           0.0           0.0   \n",
       "\n",
       "       percentAbbigail  percentAbby  percentAbdirahman  percentAbel  \\\n",
       "count       283.000000   283.000000              283.0   283.000000   \n",
       "mean          0.000004     0.000038                0.0     0.000099   \n",
       "std           0.000063     0.000232                0.0     0.000359   \n",
       "min           0.000000     0.000000                0.0     0.000000   \n",
       "25%           0.000000     0.000000                0.0     0.000000   \n",
       "50%           0.000000     0.000000                0.0     0.000000   \n",
       "75%           0.000000     0.000000                0.0     0.000000   \n",
       "max           0.001062     0.002288                0.0     0.001888   \n",
       "\n",
       "       percentAbigail  ...    state_WI    state_WV    state_WY   year_1916  \\\n",
       "count      283.000000  ...  283.000000  283.000000  283.000000  283.000000   \n",
       "mean         0.001517  ...    0.021201    0.017668    0.017668    0.169611   \n",
       "std          0.002449  ...    0.144310    0.131974    0.131974    0.375956   \n",
       "min          0.000000  ...    0.000000    0.000000    0.000000    0.000000   \n",
       "25%          0.000000  ...    0.000000    0.000000    0.000000    0.000000   \n",
       "50%          0.000000  ...    0.000000    0.000000    0.000000    0.000000   \n",
       "75%          0.003626  ...    0.000000    0.000000    0.000000    0.000000   \n",
       "max          0.011745  ...    1.000000    1.000000    1.000000    1.000000   \n",
       "\n",
       "        year_1926   year_1952   year_1971   year_2007   year_2008   year_2016  \n",
       "count  283.000000  283.000000  283.000000  283.000000  283.000000  283.000000  \n",
       "mean     0.169611    0.173145    0.176678    0.173145    0.007067    0.130742  \n",
       "std      0.375956    0.379043    0.382072    0.379043    0.083917    0.337715  \n",
       "min      0.000000    0.000000    0.000000    0.000000    0.000000    0.000000  \n",
       "25%      0.000000    0.000000    0.000000    0.000000    0.000000    0.000000  \n",
       "50%      0.000000    0.000000    0.000000    0.000000    0.000000    0.000000  \n",
       "75%      0.000000    0.000000    0.000000    0.000000    0.000000    0.000000  \n",
       "max      1.000000    1.000000    1.000000    1.000000    1.000000    1.000000  \n",
       "\n",
       "[8 rows x 3423 columns]"
      ]
     },
     "execution_count": 7,
     "metadata": {},
     "output_type": "execute_result"
    }
   ],
   "source": [
    "rel.dropna(subset=['christian'], inplace=True)\n",
    "rel.drop(columns = [\"Validation\"])\n",
    "rel = pd.get_dummies(rel, columns=['state', 'year'])\n",
    "rel.describe()"
   ]
  },
  {
   "cell_type": "code",
   "execution_count": 8,
   "metadata": {},
   "outputs": [],
   "source": [
    "y = rel['christian']\n",
    "X = rel[[x for x in rel.columns if x !='christian']]"
   ]
  },
  {
   "cell_type": "markdown",
   "metadata": {},
   "source": [
    "## 3. Divide into training and set sets"
   ]
  },
  {
   "cell_type": "code",
   "execution_count": 9,
   "metadata": {},
   "outputs": [],
   "source": [
    "xTrain, xTest, yTrain, yTest = train_test_split(X, y,test_size=0.2,random_state=42)"
   ]
  },
  {
   "cell_type": "markdown",
   "metadata": {},
   "source": [
    "## 4. Pick an appropriate method\n",
    "We will begin with Lasso."
   ]
  },
  {
   "cell_type": "code",
   "execution_count": 17,
   "metadata": {},
   "outputs": [
    {
     "name": "stdout",
     "output_type": "stream",
     "text": [
      "R2 Score: 0.615636812077325\n",
      "\n",
      "Predicted:\n",
      "[0.59052542 0.76124923 0.56455134 0.37316849 0.79589368]\n",
      "Actual:\n",
      "9      0.531862\n",
      "246    0.758335\n",
      "139    0.510789\n",
      "207    0.272718\n",
      "75     0.794677\n",
      "Name: christian, dtype: float64\n",
      "\n",
      "Number of features used: 29\n",
      "\n",
      "Cross-validation scores: [0.56284709 0.54559543 0.57579911 0.62693311 0.73235929]\n",
      "Average cross-validation score: 0.61\n"
     ]
    }
   ],
   "source": [
    "lasso = Lasso(alpha=0.001, max_iter=100000).fit(xTrain, yTrain)\n",
    "\n",
    "#score\n",
    "\n",
    "yhat = lasso.predict(xTest)\n",
    "print(\"R2 Score:\", r2_score(yTest, yhat))\n",
    "print()\n",
    "print(\"Predicted:\")\n",
    "print(yhat[0:5])\n",
    "print(\"Actual:\")\n",
    "print(yTest[0:5])\n",
    "print()\n",
    "print(\"Number of features used:\", np.sum(lasso.coef_ != 0))\n",
    "print()\n",
    "scores = cross_val_score(lasso,xTrain,yTrain,cv=5)\n",
    "print(\"Cross-validation scores: {}\".format(scores))\n",
    "print(\"Average cross-validation score: {:.2f}\".format(scores.mean()))"
   ]
  },
  {
   "cell_type": "markdown",
   "metadata": {},
   "source": [
    "## 5. Choose regularization parameters via cross-validation on the training set"
   ]
  },
  {
   "cell_type": "code",
   "execution_count": 18,
   "metadata": {
    "scrolled": true
   },
   "outputs": [
    {
     "name": "stderr",
     "output_type": "stream",
     "text": [
      "C:\\Users\\lisa\\Anaconda3\\lib\\site-packages\\sklearn\\model_selection\\_search.py:813: DeprecationWarning: The default of the `iid` parameter will change from True to False in version 0.22 and will be removed in 0.24. This will change numeric results when test-set sizes are unequal.\n",
      "  DeprecationWarning)\n"
     ]
    },
    {
     "name": "stdout",
     "output_type": "stream",
     "text": [
      "Best alpha:  0.0001\n"
     ]
    }
   ],
   "source": [
    "alpha_grid = {'alpha': [.0001, .001, .002, .004, .006, .008, .01, .012, .014, .016 ,.018, .02 ],'max_iter': [100000]}\n",
    "grid_search = GridSearchCV(Lasso(),alpha_grid,cv=5,scoring=make_scorer(r2_score, greater_is_better=True))\n",
    "best_model=grid_search.fit(xTrain,yTrain)\n",
    "print(\"Best alpha: \",best_model.best_estimator_.get_params()['alpha'])"
   ]
  },
  {
   "cell_type": "code",
   "execution_count": 22,
   "metadata": {},
   "outputs": [
    {
     "name": "stdout",
     "output_type": "stream",
     "text": [
      "R2 Score: 0.6853350607365616\n",
      "\n",
      "Predicted:\n",
      "[0.58952429 0.83747531 0.5722812  0.2960483  0.77782597]\n",
      "Actual:\n",
      "9      0.531862\n",
      "246    0.758335\n",
      "139    0.510789\n",
      "207    0.272718\n",
      "75     0.794677\n",
      "Name: christian, dtype: float64\n",
      "\n",
      "Number of features used: 29\n",
      "\n",
      "Cross-validation scores: [0.56284709 0.54559543 0.57579911 0.62693311 0.73235929]\n",
      "Average cross-validation score: 0.61\n"
     ]
    }
   ],
   "source": [
    "BetterLasso = Lasso(alpha=0.0001, max_iter=100000).fit(xTrain, yTrain)\n",
    "yhat = BetterLasso.predict(xTest)\n",
    "print(\"R2 Score:\", r2_score(yTest, yhat))\n",
    "print()\n",
    "print(\"Predicted:\")\n",
    "print(yhat[0:5])\n",
    "print(\"Actual:\")\n",
    "print(yTest[0:5])\n",
    "print()\n",
    "print(\"Number of features used:\", np.sum(lasso.coef_ != 0))\n",
    "print()\n",
    "scores = cross_val_score(lasso,xTrain,yTrain,cv=5)\n",
    "print(\"Cross-validation scores: {}\".format(scores))\n",
    "print(\"Average cross-validation score: {:.2f}\".format(scores.mean()))"
   ]
  },
  {
   "cell_type": "markdown",
   "metadata": {},
   "source": [
    "## 6. Fit model on whole training set using the cross-validated parameters"
   ]
  },
  {
   "cell_type": "markdown",
   "metadata": {},
   "source": [
    "## 7. Evaluate model by applying it to test set"
   ]
  },
  {
   "cell_type": "markdown",
   "metadata": {},
   "source": [
    "## 8. Repeat 4-7 for other methods"
   ]
  },
  {
   "cell_type": "code",
   "execution_count": 20,
   "metadata": {},
   "outputs": [
    {
     "name": "stdout",
     "output_type": "stream",
     "text": [
      "Best alpha:  0.0001\n"
     ]
    },
    {
     "name": "stderr",
     "output_type": "stream",
     "text": [
      "C:\\Users\\lisa\\Anaconda3\\lib\\site-packages\\sklearn\\model_selection\\_search.py:813: DeprecationWarning: The default of the `iid` parameter will change from True to False in version 0.22 and will be removed in 0.24. This will change numeric results when test-set sizes are unequal.\n",
      "  DeprecationWarning)\n"
     ]
    }
   ],
   "source": [
    "#Ridge regression\n",
    "alpha_grid = {'alpha': [.0001, .001, .002, .004, .006, .008, .01, .012, .014, .016 ,.018, .02 ],'max_iter': [100000]}\n",
    "grid_search = GridSearchCV(Ridge(),alpha_grid,cv=5,scoring=make_scorer(r2_score, greater_is_better=True))\n",
    "best_model=grid_search.fit(xTrain,yTrain)\n",
    "print(\"Best alpha: \",best_model.best_estimator_.get_params()['alpha'])"
   ]
  },
  {
   "cell_type": "code",
   "execution_count": 24,
   "metadata": {},
   "outputs": [
    {
     "name": "stdout",
     "output_type": "stream",
     "text": [
      "R2 Score: 0.8086870241388175\n",
      "\n",
      "Predicted:\n",
      "[0.54388578 0.78443338 0.47645359 0.33680923 0.79781547]\n",
      "Actual:\n",
      "9      0.531862\n",
      "246    0.758335\n",
      "139    0.510789\n",
      "207    0.272718\n",
      "75     0.794677\n",
      "Name: christian, dtype: float64\n",
      "\n",
      "Number of features used: 1849\n",
      "\n",
      "Cross-validation scores: [0.68212783 0.82770746 0.84607282 0.86556941 0.8978952 ]\n",
      "Average cross-validation score: 0.82\n"
     ]
    }
   ],
   "source": [
    "ridge = Ridge(alpha=.0001).fit(xTrain, yTrain)\n",
    "yhat = ridge.predict(xTest)\n",
    "print(\"R2 Score:\", r2_score(yTest, yhat))\n",
    "print()\n",
    "print(\"Predicted:\")\n",
    "print(yhat[0:5])\n",
    "print(\"Actual:\")\n",
    "print(yTest[0:5])\n",
    "print()\n",
    "print(\"Number of features used:\", np.sum(ridge.coef_ != 0))\n",
    "print()\n",
    "scores = cross_val_score(ridge,xTrain,yTrain,cv=5)\n",
    "print(\"Cross-validation scores: {}\".format(scores))\n",
    "print(\"Average cross-validation score: {:.2f}\".format(scores.mean()))"
   ]
  },
  {
   "cell_type": "code",
   "execution_count": 26,
   "metadata": {},
   "outputs": [
    {
     "data": {
      "text/html": [
       "<div>\n",
       "<style scoped>\n",
       "    .dataframe tbody tr th:only-of-type {\n",
       "        vertical-align: middle;\n",
       "    }\n",
       "\n",
       "    .dataframe tbody tr th {\n",
       "        vertical-align: top;\n",
       "    }\n",
       "\n",
       "    .dataframe thead th {\n",
       "        text-align: right;\n",
       "    }\n",
       "</style>\n",
       "<table border=\"1\" class=\"dataframe\">\n",
       "  <thead>\n",
       "    <tr style=\"text-align: right;\">\n",
       "      <th></th>\n",
       "      <th>percentAaliyah</th>\n",
       "      <th>percentAaron</th>\n",
       "      <th>percentAbbey</th>\n",
       "      <th>percentAbbie</th>\n",
       "      <th>percentAbbigail</th>\n",
       "      <th>percentAbby</th>\n",
       "      <th>percentAbdirahman</th>\n",
       "      <th>percentAbel</th>\n",
       "      <th>percentAbigail</th>\n",
       "      <th>percentAbigale</th>\n",
       "      <th>...</th>\n",
       "      <th>state_WI</th>\n",
       "      <th>state_WV</th>\n",
       "      <th>state_WY</th>\n",
       "      <th>year_1916</th>\n",
       "      <th>year_1926</th>\n",
       "      <th>year_1952</th>\n",
       "      <th>year_1971</th>\n",
       "      <th>year_2007</th>\n",
       "      <th>year_2008</th>\n",
       "      <th>year_2016</th>\n",
       "    </tr>\n",
       "  </thead>\n",
       "  <tbody>\n",
       "    <tr>\n",
       "      <th>0</th>\n",
       "      <td>0.000000</td>\n",
       "      <td>0.006558</td>\n",
       "      <td>0</td>\n",
       "      <td>0</td>\n",
       "      <td>0.0</td>\n",
       "      <td>0.0</td>\n",
       "      <td>0</td>\n",
       "      <td>0.0</td>\n",
       "      <td>0.000000</td>\n",
       "      <td>0</td>\n",
       "      <td>...</td>\n",
       "      <td>0</td>\n",
       "      <td>0</td>\n",
       "      <td>0</td>\n",
       "      <td>0</td>\n",
       "      <td>0</td>\n",
       "      <td>0</td>\n",
       "      <td>1</td>\n",
       "      <td>0</td>\n",
       "      <td>0</td>\n",
       "      <td>0</td>\n",
       "    </tr>\n",
       "    <tr>\n",
       "      <th>1</th>\n",
       "      <td>0.001684</td>\n",
       "      <td>0.004377</td>\n",
       "      <td>0</td>\n",
       "      <td>0</td>\n",
       "      <td>0.0</td>\n",
       "      <td>0.0</td>\n",
       "      <td>0</td>\n",
       "      <td>0.0</td>\n",
       "      <td>0.006734</td>\n",
       "      <td>0</td>\n",
       "      <td>...</td>\n",
       "      <td>0</td>\n",
       "      <td>0</td>\n",
       "      <td>0</td>\n",
       "      <td>0</td>\n",
       "      <td>0</td>\n",
       "      <td>0</td>\n",
       "      <td>0</td>\n",
       "      <td>0</td>\n",
       "      <td>1</td>\n",
       "      <td>0</td>\n",
       "    </tr>\n",
       "    <tr>\n",
       "      <th>2</th>\n",
       "      <td>0.000000</td>\n",
       "      <td>0.000000</td>\n",
       "      <td>0</td>\n",
       "      <td>0</td>\n",
       "      <td>0.0</td>\n",
       "      <td>0.0</td>\n",
       "      <td>0</td>\n",
       "      <td>0.0</td>\n",
       "      <td>0.000000</td>\n",
       "      <td>0</td>\n",
       "      <td>...</td>\n",
       "      <td>0</td>\n",
       "      <td>0</td>\n",
       "      <td>0</td>\n",
       "      <td>1</td>\n",
       "      <td>0</td>\n",
       "      <td>0</td>\n",
       "      <td>0</td>\n",
       "      <td>0</td>\n",
       "      <td>0</td>\n",
       "      <td>0</td>\n",
       "    </tr>\n",
       "    <tr>\n",
       "      <th>3</th>\n",
       "      <td>0.000000</td>\n",
       "      <td>0.000000</td>\n",
       "      <td>0</td>\n",
       "      <td>0</td>\n",
       "      <td>0.0</td>\n",
       "      <td>0.0</td>\n",
       "      <td>0</td>\n",
       "      <td>0.0</td>\n",
       "      <td>0.000000</td>\n",
       "      <td>0</td>\n",
       "      <td>...</td>\n",
       "      <td>0</td>\n",
       "      <td>0</td>\n",
       "      <td>0</td>\n",
       "      <td>0</td>\n",
       "      <td>1</td>\n",
       "      <td>0</td>\n",
       "      <td>0</td>\n",
       "      <td>0</td>\n",
       "      <td>0</td>\n",
       "      <td>0</td>\n",
       "    </tr>\n",
       "    <tr>\n",
       "      <th>4</th>\n",
       "      <td>0.000000</td>\n",
       "      <td>0.000000</td>\n",
       "      <td>0</td>\n",
       "      <td>0</td>\n",
       "      <td>0.0</td>\n",
       "      <td>0.0</td>\n",
       "      <td>0</td>\n",
       "      <td>0.0</td>\n",
       "      <td>0.000000</td>\n",
       "      <td>0</td>\n",
       "      <td>...</td>\n",
       "      <td>0</td>\n",
       "      <td>0</td>\n",
       "      <td>0</td>\n",
       "      <td>0</td>\n",
       "      <td>0</td>\n",
       "      <td>1</td>\n",
       "      <td>0</td>\n",
       "      <td>0</td>\n",
       "      <td>0</td>\n",
       "      <td>0</td>\n",
       "    </tr>\n",
       "  </tbody>\n",
       "</table>\n",
       "<p>5 rows × 3422 columns</p>\n",
       "</div>"
      ],
      "text/plain": [
       "   percentAaliyah  percentAaron  percentAbbey  percentAbbie  percentAbbigail  \\\n",
       "0        0.000000      0.006558             0             0              0.0   \n",
       "1        0.001684      0.004377             0             0              0.0   \n",
       "2        0.000000      0.000000             0             0              0.0   \n",
       "3        0.000000      0.000000             0             0              0.0   \n",
       "4        0.000000      0.000000             0             0              0.0   \n",
       "\n",
       "   percentAbby  percentAbdirahman  percentAbel  percentAbigail  \\\n",
       "0          0.0                  0          0.0        0.000000   \n",
       "1          0.0                  0          0.0        0.006734   \n",
       "2          0.0                  0          0.0        0.000000   \n",
       "3          0.0                  0          0.0        0.000000   \n",
       "4          0.0                  0          0.0        0.000000   \n",
       "\n",
       "   percentAbigale  ...  state_WI  state_WV  state_WY  year_1916  year_1926  \\\n",
       "0               0  ...         0         0         0          0          0   \n",
       "1               0  ...         0         0         0          0          0   \n",
       "2               0  ...         0         0         0          1          0   \n",
       "3               0  ...         0         0         0          0          1   \n",
       "4               0  ...         0         0         0          0          0   \n",
       "\n",
       "   year_1952  year_1971  year_2007  year_2008  year_2016  \n",
       "0          0          1          0          0          0  \n",
       "1          0          0          0          1          0  \n",
       "2          0          0          0          0          0  \n",
       "3          0          0          0          0          0  \n",
       "4          1          0          0          0          0  \n",
       "\n",
       "[5 rows x 3422 columns]"
      ]
     },
     "execution_count": 26,
     "metadata": {},
     "output_type": "execute_result"
    }
   ],
   "source": [
    "#Lasso and Ridge excluding Bible variable\n",
    "rel2 = rel.drop(columns=['percentbible'])\n",
    "rel2.head()"
   ]
  },
  {
   "cell_type": "code",
   "execution_count": 27,
   "metadata": {},
   "outputs": [],
   "source": [
    "y = rel2['christian']\n",
    "X = rel2[[x for x in rel2.columns if x !='christian']]\n",
    "x_Train, x_Test, y_Train, y_Test = train_test_split(X, y,test_size=0.2,random_state=1)"
   ]
  },
  {
   "cell_type": "code",
   "execution_count": 28,
   "metadata": {},
   "outputs": [
    {
     "name": "stdout",
     "output_type": "stream",
     "text": [
      "Best alpha:  0.001\n"
     ]
    },
    {
     "name": "stderr",
     "output_type": "stream",
     "text": [
      "C:\\Users\\lisa\\Anaconda3\\lib\\site-packages\\sklearn\\model_selection\\_search.py:813: DeprecationWarning: The default of the `iid` parameter will change from True to False in version 0.22 and will be removed in 0.24. This will change numeric results when test-set sizes are unequal.\n",
      "  DeprecationWarning)\n"
     ]
    }
   ],
   "source": [
    "alpha_grid = {'alpha': [.0001, .001, .002, .004, .006, .008, .01, .012, .014, .016 ,.018, .02 ],'max_iter': [100000]}\n",
    "grid_search = GridSearchCV(Lasso(),alpha_grid,cv=5,scoring=make_scorer(r2_score, greater_is_better=True))\n",
    "best_model=grid_search.fit(x_Train,y_Train)\n",
    "print(\"Best alpha: \",best_model.best_estimator_.get_params()['alpha'])"
   ]
  },
  {
   "cell_type": "code",
   "execution_count": 29,
   "metadata": {},
   "outputs": [
    {
     "name": "stdout",
     "output_type": "stream",
     "text": [
      "R2 Score: 0.5317987801856817\n",
      "\n",
      "Predicted:\n",
      "[0.8130718  0.79379215 0.52382987 0.59346289 0.53625846]\n",
      "Actual:\n",
      "99     0.899727\n",
      "260    0.656362\n",
      "62     0.624104\n",
      "102    0.688436\n",
      "259    0.520894\n",
      "Name: christian, dtype: float64\n",
      "\n",
      "Number of features used: 29\n",
      "\n",
      "Cross-validation scores: [0.75168341 0.5489692  0.75052847 0.72503825 0.74540702]\n",
      "Average cross-validation score: 0.70\n"
     ]
    }
   ],
   "source": [
    "BetterLasso = Lasso(alpha=0.001, max_iter=100000).fit(x_Train, y_Train)\n",
    "yhat = BetterLasso.predict(x_Test)\n",
    "print(\"R2 Score:\", r2_score(y_Test, yhat))\n",
    "print()\n",
    "print(\"Predicted:\")\n",
    "print(yhat[0:5])\n",
    "print(\"Actual:\")\n",
    "print(y_Test[0:5])\n",
    "print()\n",
    "print(\"Number of features used:\", np.sum(BetterLasso.coef_ != 0))\n",
    "print()\n",
    "scores = cross_val_score(BetterLasso,x_Train,y_Train,cv=5)\n",
    "print(\"Cross-validation scores: {}\".format(scores))\n",
    "print(\"Average cross-validation score: {:.2f}\".format(scores.mean()))"
   ]
  },
  {
   "cell_type": "code",
   "execution_count": 30,
   "metadata": {},
   "outputs": [
    {
     "name": "stdout",
     "output_type": "stream",
     "text": [
      "Best alpha:  0.0001\n"
     ]
    }
   ],
   "source": [
    "#Ridge regression\n",
    "alpha_grid = {'alpha': [.0001, .001, .002, .004, .006, .008, .01, .012, .014, .016 ,.018, .02 ],'max_iter': [100000]}\n",
    "grid_search = GridSearchCV(Ridge(),alpha_grid,cv=5,scoring=make_scorer(r2_score, greater_is_better=True))\n",
    "best_model=grid_search.fit(x_Train,y_Train)\n",
    "print(\"Best alpha: \",best_model.best_estimator_.get_params()['alpha'])"
   ]
  },
  {
   "cell_type": "code",
   "execution_count": 31,
   "metadata": {},
   "outputs": [
    {
     "name": "stdout",
     "output_type": "stream",
     "text": [
      "R2 Score: 0.8099493098666078\n",
      "\n",
      "Predicted:\n",
      "[0.87314167 0.73069416 0.56499577 0.6864763  0.56533665]\n",
      "Actual:\n",
      "99     0.899727\n",
      "260    0.656362\n",
      "62     0.624104\n",
      "102    0.688436\n",
      "259    0.520894\n",
      "Name: christian, dtype: float64\n",
      "\n",
      "Number of features used: 1715\n",
      "\n",
      "Cross-validation scores: [0.75892982 0.86465118 0.77839687 0.78871531 0.82228844]\n",
      "Average cross-validation score: 0.80\n"
     ]
    }
   ],
   "source": [
    "ridge = Ridge(alpha=.0001).fit(x_Train, y_Train)\n",
    "yhat = ridge.predict(x_Test)\n",
    "print(\"R2 Score:\", r2_score(y_Test, yhat))\n",
    "print()\n",
    "print(\"Predicted:\")\n",
    "print(yhat[0:5])\n",
    "print(\"Actual:\")\n",
    "print(y_Test[0:5])\n",
    "print()\n",
    "print(\"Number of features used:\", np.sum(ridge.coef_ != 0))\n",
    "print()\n",
    "scores = cross_val_score(ridge,x_Train,y_Train,cv=5)\n",
    "print(\"Cross-validation scores: {}\".format(scores))\n",
    "print(\"Average cross-validation score: {:.2f}\".format(scores.mean()))"
   ]
  },
  {
   "cell_type": "markdown",
   "metadata": {},
   "source": [
    "## 9. Apply the chosen method to new observations for which we have no labels"
   ]
  },
  {
   "cell_type": "code",
   "execution_count": 29,
   "metadata": {},
   "outputs": [],
   "source": [
    "out = pd.read_csv(\"ApplyData.csv\")"
   ]
  },
  {
   "cell_type": "code",
   "execution_count": 31,
   "metadata": {},
   "outputs": [
    {
     "ename": "TypeError",
     "evalue": "'DataFrame' object is not callable",
     "output_type": "error",
     "traceback": [
      "\u001b[0;31m---------------------------------------------------------------------------\u001b[0m",
      "\u001b[0;31mTypeError\u001b[0m                                 Traceback (most recent call last)",
      "\u001b[0;32m<ipython-input-31-51ba2e9e2626>\u001b[0m in \u001b[0;36m<module>\u001b[0;34m\u001b[0m\n\u001b[0;32m----> 1\u001b[0;31m \u001b[0mlasso\u001b[0m\u001b[0;34m.\u001b[0m\u001b[0mpredict\u001b[0m\u001b[0;34m(\u001b[0m\u001b[0mout\u001b[0m\u001b[0;34m(\u001b[0m\u001b[0mcolumns\u001b[0m\u001b[0;34m=\u001b[0m\u001b[0;34m[\u001b[0m\u001b[0;34m'christian'\u001b[0m\u001b[0;34m]\u001b[0m\u001b[0;34m)\u001b[0m\u001b[0;34m)\u001b[0m\u001b[0;34m\u001b[0m\u001b[0;34m\u001b[0m\u001b[0m\n\u001b[0m",
      "\u001b[0;31mTypeError\u001b[0m: 'DataFrame' object is not callable"
     ]
    }
   ],
   "source": [
    "lasso.predict(out)"
   ]
  },
  {
   "cell_type": "code",
   "execution_count": null,
   "metadata": {},
   "outputs": [],
   "source": []
  }
 ],
 "metadata": {
  "kernelspec": {
   "display_name": "Python 3",
   "language": "python",
   "name": "python3"
  },
  "language_info": {
   "codemirror_mode": {
    "name": "ipython",
    "version": 3
   },
   "file_extension": ".py",
   "mimetype": "text/x-python",
   "name": "python",
   "nbconvert_exporter": "python",
   "pygments_lexer": "ipython3",
   "version": "3.7.3"
  }
 },
 "nbformat": 4,
 "nbformat_minor": 2
}
